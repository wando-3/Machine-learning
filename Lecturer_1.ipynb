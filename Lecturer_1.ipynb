{
 "cells": [
  {
   "cell_type": "code",
   "execution_count": null,
   "id": "4abd8753",
   "metadata": {},
   "outputs": [
    {
     "name": "stdout",
     "output_type": "stream",
     "text": [
      "hello world\n"
     ]
    }
   ],
   "source": [
    "#first program \n",
    "print(\"hello world\")"
   ]
  },
  {
   "cell_type": "code",
   "execution_count": null,
   "id": "22915703",
   "metadata": {},
   "outputs": [],
   "source": [
    "# # variable rules\n",
    "\n",
    "# •\tA variable name must start with a letter or the underscore character\n",
    "# •\tA variable name cannot start with a number\n",
    "# •\tA variable name can only contain alpha-numeric characters and underscores (A-z, 0-9, and _ )\n",
    "# •\tVariable names are case-sensitive (age, Age and AGE are three different variables)\n",
    "# •\tA variable name cannot be any of the Python keywords.\n",
    "# # \n",
    "\n",
    "#Legal variable names:\n",
    "myvar = \"John\"\n",
    "my_var = \"John\"\n",
    "_my_var = \"John\"\n",
    "myVar = \"John\"\n"
   ]
  },
  {
   "cell_type": "code",
   "execution_count": null,
   "id": "2972bd85",
   "metadata": {},
   "outputs": [],
   "source": []
  },
  {
   "cell_type": "code",
   "execution_count": null,
   "id": "b8e73ebd",
   "metadata": {},
   "outputs": [],
   "source": []
  },
  {
   "cell_type": "code",
   "execution_count": null,
   "id": "0e99231a",
   "metadata": {},
   "outputs": [
    {
     "name": "stdout",
     "output_type": "stream",
     "text": [
      "<class 'int'>\n",
      "Hello\n",
      "Hello\n"
     ]
    }
   ],
   "source": [
    "# Multi Words Variable Names\n",
    "# Variable names with more than one word can be difficult to read.\n",
    "# There are several techniques you can use to make them more readable:\n",
    "# Camel Case\n",
    "# Each word, except the first, starts with a capital letter:\n",
    "myVariableName = \"John\" \n",
    "# ***********************Pascal Case\n",
    "# Each word starts with a capital letter:\n",
    "MyVariableName = \"John\" \n",
    "# #*********************** Snake Case****************************\n",
    "# Each word is separated by an underscore character:\n",
    "my_variable_name = \"John\"\n",
    "\n",
    "MYVAR = \"John\"\n",
    "myvar2 = \"John\" \n",
    "\n",
    "#******************************* Python Data Types****************************\n",
    "# Built-in Data Types\n",
    "# In programming, data type is an important concept.\n",
    "# Variables can store data of different types, and different types can do different things.\n",
    "# Python has the following data types built-in by default, in these categories:\n",
    "# Text Type:\tstr\n",
    "# Numeric Types:\tint, float, complex\n",
    "# Sequence Types:\tlist, tuple, range\n",
    "# Mapping Type:\tdict\n",
    "# Set Types:\tset, frozenset\n",
    "# Boolean Type:\tbool\n",
    "# Binary Types:\tbytes, bytearray, memoryview\n",
    "# None Type:\tNoneType\n",
    "\n",
    "\n",
    "\n",
    "# Getting the Data Type\n",
    "# You can get the data type of any object by using the type() function:\n",
    "# Example \n",
    "# Print the data type of the variable x:\n",
    "x = 5\n",
    "print(type(x))\n",
    "\n",
    "\n",
    "#**************************** Setting the Specific Data Type\n",
    "# If you want to specify the data type, you can use the following constructor functions:\n",
    "# Example                                    Data Type            \n",
    "# x = str(\"Hello World\")                    str\n",
    "# x = int(20)                               int\n",
    "# x = float(20.5)                           float\n",
    "# x = complex(1j)                           complex\n",
    "# x = list((\"apple\", \"banana\", \"cherry\"))   list\n",
    "# x = tuple((\"apple\", \"banana\", \"cherry\"))  tuple\n",
    "# x = range(6)                              range\n",
    "# x = dict(name=\"John\", age=36)             dict\n",
    "# x = set((\"apple\", \"banana\", \"cherry\"))    set\n",
    "# x = frozenset((\"apple\", \"banana\", \"cherry\"))frozenset\n",
    "# x = bool(5)                              bool\n",
    "# x = bytes(5)                             bytes\n",
    "# x = bytearray(5)                         bytearray\n",
    "# x = memoryview(bytes(5))\n",
    "\n",
    "\n",
    "\n",
    "# Python Strings\n",
    "# Strings in python are surrounded by either single quotation marks, or double quotation marks.\n",
    "# 'Hello' is the same as \"Hello\".\n",
    "# You can display a string literal with the print() function:\n",
    "# Example\n",
    "print(\"Hello\")\n",
    "print('Hello')\n",
    "\n",
    "\n",
    "\n"
   ]
  },
  {
   "cell_type": "code",
   "execution_count": 6,
   "id": "e50a80bf",
   "metadata": {},
   "outputs": [
    {
     "name": "stdout",
     "output_type": "stream",
     "text": [
      "Hello\n"
     ]
    }
   ],
   "source": [
    "# Assign String to a Variable\n",
    "# Assigning a string to a variable is done with the variable name followed by an equal sign and the string:\n",
    "# Example\n",
    "a = \"Hello\"\n",
    "print(a) \n"
   ]
  },
  {
   "cell_type": "code",
   "execution_count": null,
   "id": "d8e875cc",
   "metadata": {},
   "outputs": [
    {
     "name": "stdout",
     "output_type": "stream",
     "text": [
      "Lorem ipsum dolor sit amet,\n",
      "consectetur adipiscing elit,\n",
      "sed do eiusmod tempor incididunt\n",
      "ut labore et dolore magna aliqua.\n"
     ]
    }
   ],
   "source": [
    "# Multiline Strings\n",
    "# You can assign a multiline string to a variable by using three quotes:\n",
    "# Example\n",
    "# You can use three double quotes:\n",
    "a = \"\"\"Lorem ipsum dolor sit amet,\n",
    "consectetur adipiscing elit,\n",
    "sed do eiusmod tempor incididunt\n",
    "ut labore et dolore magna aliqua.\"\"\"\n",
    "print(a) \n"
   ]
  },
  {
   "cell_type": "code",
   "execution_count": null,
   "id": "c8206833",
   "metadata": {},
   "outputs": [],
   "source": []
  },
  {
   "cell_type": "code",
   "execution_count": 8,
   "id": "21742235",
   "metadata": {},
   "outputs": [
    {
     "name": "stdout",
     "output_type": "stream",
     "text": [
      "b\n",
      "a\n",
      "n\n",
      "a\n",
      "n\n",
      "a\n"
     ]
    }
   ],
   "source": [
    "# Looping Through a String\n",
    "# Since strings are arrays, we can loop through the characters in a string, with a for loop.\n",
    "# Example\n",
    "# Loop through the letters in the word \"banana\":\n",
    "for x in \"banana\":\n",
    "  print(x)\n"
   ]
  },
  {
   "cell_type": "code",
   "execution_count": 9,
   "id": "48f1898a",
   "metadata": {},
   "outputs": [
    {
     "name": "stdout",
     "output_type": "stream",
     "text": [
      "13\n"
     ]
    }
   ],
   "source": [
    "# String Length\n",
    "# To get the length of a string, use the len() function.\n",
    "# Example\n",
    "# The len() function returns the length of a string:\n",
    "a = \"Hello, World!\"\n",
    "print(len(a))\n"
   ]
  },
  {
   "cell_type": "code",
   "execution_count": 10,
   "id": "94dd8383",
   "metadata": {},
   "outputs": [
    {
     "name": "stdout",
     "output_type": "stream",
     "text": [
      "llo\n"
     ]
    }
   ],
   "source": [
    "# Slicing\n",
    "# You can return a range of characters by using the slice syntax.\n",
    "# Specify the start index and the end index, separated by a colon, to return a part of the string.\n",
    "# Example\n",
    "# Get the characters from position 2 to position 5 (not included):\n",
    "b = \"Hello, World!\"\n",
    "print(b[2:5])\n"
   ]
  },
  {
   "cell_type": "code",
   "execution_count": 11,
   "id": "da79b089",
   "metadata": {},
   "outputs": [
    {
     "name": "stdout",
     "output_type": "stream",
     "text": [
      "Hello\n"
     ]
    }
   ],
   "source": [
    "# Slice From the Start\n",
    "# By leaving out the start index, the range will start at the first character:\n",
    "# Example\n",
    "# Get the characters from the start to position 5 (not included):\n",
    "b = \"Hello, World!\"\n",
    "print(b[:5])\n"
   ]
  },
  {
   "cell_type": "code",
   "execution_count": 13,
   "id": "1a0802bb",
   "metadata": {},
   "outputs": [
    {
     "name": "stdout",
     "output_type": "stream",
     "text": [
      "llo, World!\n"
     ]
    }
   ],
   "source": [
    "# Slice To the End\n",
    "# By leaving out the end index, the range will go to the end:\n",
    "# Example\n",
    "# Get the characters from position 2, and all the way to the end:\n",
    "b = \"Hello, World!\"\n",
    "print(b[2:])\n"
   ]
  },
  {
   "cell_type": "code",
   "execution_count": 14,
   "id": "502a3206",
   "metadata": {},
   "outputs": [
    {
     "name": "stdout",
     "output_type": "stream",
     "text": [
      "orl\n"
     ]
    }
   ],
   "source": [
    "# Negative Indexing\n",
    "# Use negative indexes to start the slice from the end of the string: \n",
    "# Example\n",
    "# Get the characters:\n",
    "# From: \"o\" in \"World!\" (position -5)\n",
    "# To, but not included: \"d\" in \"World!\" (position -2):\n",
    "b = \"Hello, World!\"\n",
    "print(b[-5:-2])\n"
   ]
  },
  {
   "cell_type": "code",
   "execution_count": 15,
   "id": "593d5790",  
   "metadata": {},
   "outputs": [
    {
     "name": "stdout",
     "output_type": "stream",
     "text": [
      "HelloWorld\n"
     ]
    }
   ],
   "source": [
    "# String Concatenation\n",
    "# To concatenate, or combine, two strings you can use the + operator.\n",
    "# Example\n",
    "# Merge variable a with variable b into variable c:\n",
    "a = \"Hello\"\n",
    "b = \"World\"\n",
    "c = a + b\n",
    "print(c)\n"
   ]
  },
  {
   "cell_type": "code",
   "execution_count": 16,
   "id": "ca7f38eb",
   "metadata": {},
   "outputs": [
    {
     "name": "stdout",
     "output_type": "stream",
     "text": [
      "Hello, and welcome to my world.\n"
     ]
    }
   ],
   "source": [
    "# Python String Method\n",
    "# 1)  capitalize()\n",
    "# Example \n",
    "# Upper case the first letter in this sentence:\n",
    "txt = \"hello, and welcome to my world.\"\n",
    "\n",
    "x = txt.capitalize ()\n",
    "\n",
    "print (x) \n"
   ]
  },
  {
   "cell_type": "code",
   "execution_count": 17,
   "id": "b2238c91",
   "metadata": {},
   "outputs": [
    {
     "name": "stdout",
     "output_type": "stream",
     "text": [
      "2\n"
     ]
    }
   ],
   "source": [
    "#  String count () \n",
    "\n",
    "# Example\n",
    "# Return the number of times the value \"apple\" appears in the string:\n",
    "txt = \"I love apples, apple are my favorite fruit\"\n",
    "\n",
    "x = txt.count(\"apple\")\n",
    "\n",
    "print(x) \n"
   ]
  },
  {
   "cell_type": "code",
   "execution_count": 26,
   "id": "fd05f1e1",
   "metadata": {
    "slideshow": {
     "slide_type": "notes"
    }
   },
   "outputs": [
    {
     "name": "stdout",
     "output_type": "stream",
     "text": [
      "1\n"
     ]
    }
   ],
   "source": [
    "# Definition and Usage\n",
    "# The count() method returns the number of times a specified value appears in the string.\n",
    "# ________________________________________\n",
    "# Syntax\n",
    "# string.count(value, start, end) \n",
    "# Parameter Values\n",
    "# Parameter  Description\n",
    "# value    Required. A String. The string to value to search for\n",
    "# start    Optional. An Integer. The position to start the search. Default is 0\n",
    "# end      Optional. An Integer. The position to end the search. Default is the end of the string\n",
    "\n",
    "\n",
    "# More Examples\n",
    "# Example\n",
    "# Search from position 10 to 24:\n",
    "txt = \"I love apples, apple are my favorite fruit\"\n",
    "\n",
    "x = txt.count(\"apple\", 10, 24)\n",
    "print(x) "
   ]
  },
  {
   "cell_type": "code",
   "execution_count": 19,
   "id": "aa84bafe",
   "metadata": {},
   "outputs": [
    {
     "name": "stdout",
     "output_type": "stream",
     "text": [
      "True\n",
      "False\n",
      "False\n"
     ]
    }
   ],
   "source": [
    "# In programming you often need to know if an expression is True or False.\n",
    "# You can evaluate any expression in Python, and get one of two answers, True or False.\n",
    "# When you compare two values, the expression is evaluated and Python returns the Boolean answer:\n",
    "# Example.\n",
    "print(10 > 9)\n",
    "print(10 == 9)\n",
    "print(10 < 9)\n"
   ]
  },
  {
   "cell_type": "code",
   "execution_count": 20,
   "id": "845faf86",
   "metadata": {},
   "outputs": [
    {
     "data": {
      "text/plain": [
       "True"
      ]
     },
     "execution_count": 20,
     "metadata": {},
     "output_type": "execute_result"
    }
   ],
   "source": [
    "# Most Values are True\n",
    "# Almost any value is evaluated to True if it has some sort of content.\n",
    "# Any string is True, except empty strings.\n",
    "# Any number is True, except 0.\n",
    "# Any list, tuple, set, and dictionary are True, except empty ones.\n",
    "\n",
    "# Example\n",
    "# The following will return True:\n",
    "bool (\"abc\")\n",
    "bool(123)\n",
    "bool([\"apple\", \"cherry\", \"banana\"])\n"
   ]
  },
  {
   "cell_type": "code",
   "execution_count": 21,
   "id": "1c778e4b",
   "metadata": {},
   "outputs": [
    {
     "data": {
      "text/plain": [
       "False"
      ]
     },
     "execution_count": 21,
     "metadata": {},
     "output_type": "execute_result"
    }
   ],
   "source": [
    "# Some Values are False\n",
    "# In fact, there are not many values that evaluate to False, except empty values, such as (), [], {}, \"\", the number 0, and the value None. And of course the value False evaluates to False.\n",
    "\n",
    "# Example\n",
    "# The following will return False:\n",
    "bool(False)\n",
    "bool(None)\n",
    "bool(0)\n",
    "bool(\"\")\n",
    "bool(())\n",
    "bool([])\n"
   ]
  },
  {
   "cell_type": "code",
   "execution_count": 23,
   "id": "e83894be",
   "metadata": {},
   "outputs": [
    {
     "name": "stdout",
     "output_type": "stream",
     "text": [
      "Hello, World!\n"
     ]
    }
   ],
   "source": [
    "#                  Multiline Comments\n",
    "\n",
    "# Python does not really have a syntax for multiline comments.\n",
    "# To add a multiline comment you could insert a # for each line:\n",
    "# Example:\n",
    "    #This is a comment\n",
    "    #written in\n",
    "    #more than just one line\n",
    "print(\"Hello, World!\")\n"
   ]
  },
  {
   "cell_type": "code",
   "execution_count": 27,
   "id": "9347121e",
   "metadata": {},
   "outputs": [
    {
     "name": "stdout",
     "output_type": "stream",
     "text": [
      "Hello, World!\n",
      "Hello, World!\n",
      "Cheers, Mate!\n"
     ]
    }
   ],
   "source": [
    "                                # Comments in python\n",
    "# Comments can be used to explain Python code.\n",
    "# Comments can be used to make the code more readable.\n",
    "# Comments can be used to prevent execution when testing code.\n",
    "# Creating a Comment\n",
    "# Comments starts with a #, and Python will ignore them:\n",
    "# Example \n",
    "#This is a comment\n",
    "print(\"Hello, World!\")\n",
    "# Comments can be placed at the end of a line, and Python will ignore the rest of the line:\n",
    "# Example\n",
    "print(\"Hello, World!\") #This is a comment \n",
    "# A comment does not have to be text that explains the code, it can also be used to prevent Python from executing code:\n",
    "#********************************* Example\n",
    "#print(\"Hello, World!\")\n",
    "print(\"Cheers, Mate!\") \n",
    "\n"
   ]
  },
  {
   "cell_type": "code",
   "execution_count": 24,
   "id": "c20a0264",
   "metadata": {},
   "outputs": [
    {
     "name": "stdout",
     "output_type": "stream",
     "text": [
      "Hello, World!\n"
     ]
    }
   ],
   "source": [
    "# Or, not quite as intended, you can use a multiline string.\n",
    "# Since Python will ignore string literals that are not assigned to a variable, you can add a multiline string (triple quotes) in your code, and place your comment inside it:\n",
    "# Example\n",
    "\"\"\"\n",
    "This is a comment\n",
    "written in \n",
    "more than just one line\n",
    "\"\"\"\n",
    "print(\"Hello, World!\") \n",
    "\n",
    "\n",
    "\n",
    "# ********************************END*************************************\n"
   ]
  },
  {
   "cell_type": "code",
   "execution_count": null,
   "id": "ed43bb35",
   "metadata": {},
   "outputs": [],
   "source": []
  }
 ],
 "metadata": {
  "celltoolbar": "Slideshow",
  "kernelspec": {
   "display_name": "Python 3 (ipykernel)",
   "language": "python",
   "name": "python3"
  },
  "language_info": {
   "codemirror_mode": {
    "name": "ipython",
    "version": 3
   },
   "file_extension": ".py",
   "mimetype": "text/x-python",
   "name": "python",
   "nbconvert_exporter": "python",
   "pygments_lexer": "ipython3",
   "version": "3.11.4"
  }
 },
 "nbformat": 4,
 "nbformat_minor": 5
}
